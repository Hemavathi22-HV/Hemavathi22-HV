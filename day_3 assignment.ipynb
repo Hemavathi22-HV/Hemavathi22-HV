{
  "nbformat": 4,
  "nbformat_minor": 0,
  "metadata": {
    "colab": {
      "provenance": [],
      "authorship_tag": "ABX9TyNVEKxTh+27j78Tv7ifVeQr",
      "include_colab_link": true
    },
    "kernelspec": {
      "name": "python3",
      "display_name": "Python 3"
    },
    "language_info": {
      "name": "python"
    }
  },
  "cells": [
    {
      "cell_type": "markdown",
      "metadata": {
        "id": "view-in-github",
        "colab_type": "text"
      },
      "source": [
        "<a href=\"https://colab.research.google.com/github/Hemavathi22-HV/Hemavathi22-HV/blob/main/day_3%20assignment.ipynb\" target=\"_parent\"><img src=\"https://colab.research.google.com/assets/colab-badge.svg\" alt=\"Open In Colab\"/></a>"
      ]
    },
    {
      "cell_type": "code",
      "execution_count": 1,
      "metadata": {
        "colab": {
          "base_uri": "https://localhost:8080/"
        },
        "id": "p-TYZ1oxneu3",
        "outputId": "5a3ff64b-c2c3-4706-a581-7070196b3dfe"
      },
      "outputs": [
        {
          "output_type": "stream",
          "name": "stdout",
          "text": [
            "Probability of Heads: 0.8\n",
            "Probability of Tails: 0.2\n"
          ]
        }
      ],
      "source": [
        "heads = 80\n",
        "tails = 20\n",
        "total = heads + tails\n",
        "\n",
        "# Probability calculations\n",
        "p_heads = heads / total\n",
        "p_tails = tails / total\n",
        "\n",
        "print(f\"Probability of Heads: {p_heads}\")\n",
        "print(f\"Probability of Tails: {p_tails}\")\n"
      ]
    },
    {
      "cell_type": "code",
      "source": [
        "P_disease = 0.03                 # 3% of people have the disease\n",
        "P_positive_given_disease = 0.97  # 97% chance test is positive if diseased\n",
        "P_positive_given_no_disease = 0.05  # 5% false positive rate\n",
        "\n",
        "# Total probability of testing positive:\n",
        "P_no_disease = 1 - P_disease\n",
        "P_positive = (P_positive_given_disease * P_disease) + (P_positive_given_no_disease * P_no_disease)\n",
        "\n",
        "# Bayes' Theorem\n",
        "P_disease_given_positive = (P_positive_given_disease * P_disease) / P_positive\n",
        "\n",
        "print(f\"Probability of having disease given a positive test: {P_disease_given_positive:.4f}\")\n"
      ],
      "metadata": {
        "colab": {
          "base_uri": "https://localhost:8080/"
        },
        "id": "82mkJxwenujw",
        "outputId": "8ac94f12-f0f0-4271-f23b-0ff5bc62209e"
      },
      "execution_count": 2,
      "outputs": [
        {
          "output_type": "stream",
          "name": "stdout",
          "text": [
            "Probability of having disease given a positive test: 0.3750\n"
          ]
        }
      ]
    },
    {
      "cell_type": "code",
      "source": [
        "def f(x):\n",
        "    return 4*x**3 + 3*x - 6\n",
        "\n",
        "# Derivative of f(x): f'(x) = 12*x**2 - 3\n",
        "def f_prime(x):\n",
        "    return 12*x**2 - 3\n",
        "\n",
        "# Evaluate derivative at a point\n",
        "x_val = 2\n",
        "print(f\"Derivative at x = {x_val}: {f_prime(x_val)}\")"
      ],
      "metadata": {
        "colab": {
          "base_uri": "https://localhost:8080/"
        },
        "id": "h-ZuyUYHoRCA",
        "outputId": "aecb6398-59e9-44e4-b1be-76957711ee0d"
      },
      "execution_count": 3,
      "outputs": [
        {
          "output_type": "stream",
          "name": "stdout",
          "text": [
            "Derivative at x = 2: 45\n"
          ]
        }
      ]
    },
    {
      "cell_type": "code",
      "source": [
        "learning_rate = 0.3\n",
        "x = 2  # starting point\n",
        "\n",
        "# Perform one step of gradient descent\n",
        "gradient = f_prime(x)\n",
        "x_new = x - learning_rate * gradient\n",
        "\n",
        "print(f\"New x after one gradient descent step: {x_new}\")\n"
      ],
      "metadata": {
        "colab": {
          "base_uri": "https://localhost:8080/"
        },
        "id": "FNFQQuMpoW0G",
        "outputId": "1e900e70-c170-4564-ac81-cd8d1dc2f449"
      },
      "execution_count": 4,
      "outputs": [
        {
          "output_type": "stream",
          "name": "stdout",
          "text": [
            "New x after one gradient descent step: -11.5\n"
          ]
        }
      ]
    }
  ]
}