{
  "nbformat": 4,
  "nbformat_minor": 0,
  "metadata": {
    "colab": {
      "provenance": [],
      "authorship_tag": "ABX9TyP5cY80kdkW8lx8wHlhvpj9",
      "include_colab_link": true
    },
    "kernelspec": {
      "name": "python3",
      "display_name": "Python 3"
    },
    "language_info": {
      "name": "python"
    }
  },
  "cells": [
    {
      "cell_type": "markdown",
      "metadata": {
        "id": "view-in-github",
        "colab_type": "text"
      },
      "source": [
        "<a href=\"https://colab.research.google.com/github/Hemavathi22-HV/Hemavathi22-HV/blob/main/day-2assignment.ipynb\" target=\"_parent\"><img src=\"https://colab.research.google.com/assets/colab-badge.svg\" alt=\"Open In Colab\"/></a>"
      ]
    },
    {
      "cell_type": "code",
      "execution_count": 1,
      "metadata": {
        "colab": {
          "base_uri": "https://localhost:8080/"
        },
        "id": "IvIyt7PdvYZn",
        "outputId": "9cafd4ea-f032-4065-872f-b699bb16ac25"
      },
      "outputs": [
        {
          "output_type": "stream",
          "name": "stdout",
          "text": [
            "Matrix A:\n",
            " [[1 2]\n",
            " [3 4]]\n",
            "Matrix B:\n",
            " [[5 6]\n",
            " [7 8]]\n",
            "Matrix Multiplication Result:\n",
            " [[19 22]\n",
            " [43 50]]\n"
          ]
        }
      ],
      "source": [
        "import numpy as np\n",
        "\n",
        "# Function to perform matrix multiplication\n",
        "def matrix_multiply(A, B):\n",
        "    return np.dot(A, B)\n",
        "\n",
        "# Example matrices\n",
        "A = np.array([[1, 2],\n",
        "              [3, 4]])\n",
        "B = np.array([[5, 6],\n",
        "              [7, 8]])\n",
        "\n",
        "# Perform multiplication\n",
        "result = matrix_multiply(A, B)\n",
        "print(\"Matrix A:\\n\", A)\n",
        "print(\"Matrix B:\\n\", B)\n",
        "print(\"Matrix Multiplication Result:\\n\", result)"
      ]
    },
    {
      "cell_type": "code",
      "source": [
        "data = [10, 15, 20, 25, 30]\n"
      ],
      "metadata": {
        "id": "px_kotO6vviP"
      },
      "execution_count": 6,
      "outputs": []
    },
    {
      "cell_type": "code",
      "source": [
        "def min_max_scale(data):\n",
        "    min_val = min(data)\n",
        "    max_val = max(data)\n",
        "    return [(x - min_val) / (max_val - min_val) for x in data]\n",
        "\n",
        "scaled_data = min_max_scale(data)\n",
        "print(\"Original Data:\", data)\n",
        "print(\"Min-Max Scaled Data:\", scaled_data)"
      ],
      "metadata": {
        "colab": {
          "base_uri": "https://localhost:8080/"
        },
        "id": "qUxIZzs7vxrl",
        "outputId": "4ba8f938-44df-49a8-ce11-1b9caa7c785a"
      },
      "execution_count": 7,
      "outputs": [
        {
          "output_type": "stream",
          "name": "stdout",
          "text": [
            "Original Data: [10, 15, 20, 25, 30]\n",
            "Min-Max Scaled Data: [0.0, 0.25, 0.5, 0.75, 1.0]\n"
          ]
        }
      ]
    },
    {
      "cell_type": "code",
      "source": [
        "def standardize(data):\n",
        "    mean = sum(data) / len(data)\n",
        "    std = (sum([(x - mean) ** 2 for x in data]) / len(data)) ** 0.5\n",
        "    return [(x - mean) / std for x in data]\n",
        "\n",
        "standardized_data = standardize(data)\n",
        "print(\"Standardized Data:\", standardized_data)\n"
      ],
      "metadata": {
        "colab": {
          "base_uri": "https://localhost:8080/"
        },
        "id": "s1BB6JyNw5zz",
        "outputId": "f65035b0-2510-4cde-ed41-9a7c40507384"
      },
      "execution_count": 8,
      "outputs": [
        {
          "output_type": "stream",
          "name": "stdout",
          "text": [
            "Standardized Data: [-1.414213562373095, -0.7071067811865475, 0.0, 0.7071067811865475, 1.414213562373095]\n"
          ]
        }
      ]
    }
  ]
}