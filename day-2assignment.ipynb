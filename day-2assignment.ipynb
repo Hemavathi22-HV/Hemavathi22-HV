{
  "nbformat": 4,
  "nbformat_minor": 0,
  "metadata": {
    "colab": {
      "provenance": [],
      "authorship_tag": "ABX9TyOETnlYPFU5XYey81i/ae7i",
      "include_colab_link": true
    },
    "kernelspec": {
      "name": "python3",
      "display_name": "Python 3"
    },
    "language_info": {
      "name": "python"
    }
  },
  "cells": [
    {
      "cell_type": "markdown",
      "metadata": {
        "id": "view-in-github",
        "colab_type": "text"
      },
      "source": [
        "<a href=\"https://colab.research.google.com/github/Hemavathi22-HV/Hemavathi22-HV/blob/main/day-2assignment.ipynb\" target=\"_parent\"><img src=\"https://colab.research.google.com/assets/colab-badge.svg\" alt=\"Open In Colab\"/></a>"
      ]
    },
    {
      "cell_type": "code",
      "execution_count": 9,
      "metadata": {
        "colab": {
          "base_uri": "https://localhost:8080/"
        },
        "id": "IvIyt7PdvYZn",
        "outputId": "2d49371b-35a2-4b68-cb9e-cff55123e2f9"
      },
      "outputs": [
        {
          "output_type": "stream",
          "name": "stdout",
          "text": [
            "Matrix A:\n",
            " [[3 6]\n",
            " [4 5]]\n",
            "Matrix B:\n",
            " [[5 6]\n",
            " [7 8]]\n",
            "Matrix Multiplication Result:\n",
            " [[57 66]\n",
            " [55 64]]\n"
          ]
        }
      ],
      "source": [
        "import numpy as np\n",
        "\n",
        "# Function to perform matrix multiplication\n",
        "def matrix_multiply(A, B):\n",
        "    return np.dot(A, B)\n",
        "\n",
        "# Example matrices\n",
        "A = np.array([[3, 6],\n",
        "              [4, 5]])\n",
        "B = np.array([[5, 6],\n",
        "              [7, 8]])\n",
        "\n",
        "# Perform multiplication\n",
        "result = matrix_multiply(A, B)\n",
        "print(\"Matrix A:\\n\", A)\n",
        "print(\"Matrix B:\\n\", B)\n",
        "print(\"Matrix Multiplication Result:\\n\", result)"
      ]
    },
    {
      "cell_type": "code",
      "source": [
        "data = [5,10,15,20,25,30]\n"
      ],
      "metadata": {
        "id": "px_kotO6vviP"
      },
      "execution_count": 10,
      "outputs": []
    },
    {
      "cell_type": "code",
      "source": [
        "def min_max_scale(data):\n",
        "    min_val = min(data)\n",
        "    max_val = max(data)\n",
        "    return [(x - min_val) / (max_val - min_val) for x in data]\n",
        "\n",
        "scaled_data = min_max_scale(data)\n",
        "print(\"Original Data:\", data)\n",
        "print(\"Min-Max Scaled Data:\", scaled_data)"
      ],
      "metadata": {
        "colab": {
          "base_uri": "https://localhost:8080/"
        },
        "id": "qUxIZzs7vxrl",
        "outputId": "11a66170-fac4-4b2c-da47-625d4b03914a"
      },
      "execution_count": 11,
      "outputs": [
        {
          "output_type": "stream",
          "name": "stdout",
          "text": [
            "Original Data: [5, 10, 15, 20, 25, 30]\n",
            "Min-Max Scaled Data: [0.0, 0.2, 0.4, 0.6, 0.8, 1.0]\n"
          ]
        }
      ]
    },
    {
      "cell_type": "code",
      "source": [
        "def standardize(data):\n",
        "    mean = sum(data) / len(data)\n",
        "    std = (sum([(x - mean) ** 2 for x in data]) / len(data)) ** 0.5\n",
        "    return [(x - mean) / std for x in data]\n",
        "\n",
        "standardized_data = standardize(data)\n",
        "print(\"Standardized Data:\", standardized_data)\n"
      ],
      "metadata": {
        "colab": {
          "base_uri": "https://localhost:8080/"
        },
        "id": "s1BB6JyNw5zz",
        "outputId": "efda3565-326a-48d7-cff0-4963e6b85163"
      },
      "execution_count": 12,
      "outputs": [
        {
          "output_type": "stream",
          "name": "stdout",
          "text": [
            "Standardized Data: [-1.4638501094227996, -0.8783100656536798, -0.2927700218845599, 0.2927700218845599, 0.8783100656536798, 1.4638501094227996]\n"
          ]
        }
      ]
    }
  ]
}